{
 "cells": [
  {
   "cell_type": "markdown",
   "id": "f70713b5-3089-4625-8852-accbe98f42df",
   "metadata": {},
   "source": [
    "# how `mee` works\n",
    "\n",
    "![](https://raw.githubusercontent.com/deathbeds/drawins/master/meetaskssession%20small.jpg)"
   ]
  },
  {
   "cell_type": "markdown",
   "id": "50ada653-9e5f-4422-b738-c5d2f4e21b88",
   "metadata": {},
   "source": [
    "## `mee` tasks\n",
    "\n",
    "the `mee` tasks are prescriptions for executing code that read and write files;\n",
    "tasks are only concerned file system information and cannot to smart thing without files on disk.\n",
    "\n",
    "the ultimate goal of the `mee` tasks are to write canonical configuration files for different build tools\n",
    "like: `jupyter-book, sphinx, mkdocs and nikola`"
   ]
  },
  {
   "cell_type": "markdown",
   "id": "22b8fcd5-f1c2-48bd-b96a-b4b0d0cbd9c7",
   "metadata": {},
   "source": [
    "## `mee` sessions\n",
    "\n",
    "some build systems, or bespoke documentation tools, can require complicated envirorments for success.\n",
    "`mee` uses `nox` to isolate complicated dependencies in their own environments that won't conflict\n",
    "with your own."
   ]
  }
 ],
 "metadata": {
  "kernelspec": {
   "display_name": "Python 3 (ipykernel)",
   "language": "python",
   "name": "python3"
  },
  "language_info": {
   "codemirror_mode": {
    "name": "ipython",
    "version": 3
   },
   "file_extension": ".py",
   "mimetype": "text/x-python",
   "name": "python",
   "nbconvert_exporter": "python",
   "pygments_lexer": "ipython3",
   "version": "3.9.5"
  }
 },
 "nbformat": 4,
 "nbformat_minor": 5
}
