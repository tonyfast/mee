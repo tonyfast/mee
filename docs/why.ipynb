{
 "cells": [
  {
   "cell_type": "markdown",
   "id": "7155b9d0-dda9-4d32-ae8c-8bb99c8d972b",
   "metadata": {},
   "source": [
    "# why `mee`? why, oh why?\n",
    "\n",
    "![](https://raw.githubusercontent.com/deathbeds/drawins/master/meesphinxnikolamkdocs%20small.jpg)"
   ]
  },
  {
   "cell_type": "markdown",
   "id": "be064bf1-c03f-4219-8098-633d0d93c4f9",
   "metadata": {},
   "source": [
    "`mee` is tool for you to publish literate programs composed of code and narrative. a lot of authors\n",
    "face the conflict of writing personal content versus their content management. `mee` is designed to manage your works using popular open source tools."
   ]
  },
  {
   "cell_type": "markdown",
   "id": "7004baa9-a31c-4ef5-92c1-8b33f324997a",
   "metadata": {},
   "source": [
    "## motivation\n",
    "\n",
    "`mee` brings meaning to Github gist, pages, and readme profiles; `mee` combines all of these features\n",
    "to build your personal documentation to share with others.\n",
    "\n",
    "### readme profile\n",
    "\n",
    "recently, github introduced the readme profile feature. one of the most progressive demonstrations of a \n",
    "readme profile is [simonw]'s profile that updates using [github actions].\n",
    "`mee` builds off this automation \n",
    "\n",
    "generally, when working with `mee` we suggest installing the service on your github readme profile.\n",
    "by combining, `mee` and your readme we know enough to start building your personal website\n",
    "using public data.\n",
    "\n",
    "> currently, `mee` doesn't update main, but it should.\n",
    "### github pages\n",
    "\n",
    "`mee` uses github pages to deploy your content. it is created using a daily github workflow\n",
    "that ensure your content remains fresh. all you did was create a cool public gist.\n",
    "\n",
    "\n",
    "### github gist\n",
    "\n",
    "github gist is a service for sharing very small ideas; there are quite a few ways to work with github gist and we suggest looking at github's documentation. information about our gist is available through the public github api. `mee` seeds your documentation from the gist you create. \n",
    "\n",
    "some facts about gist:\n",
    "\n",
    "* a gist is a repo\n",
    "* a gist cannot have images\n",
    "* gist have comments\n",
    "* gist can be used to build binders\n",
    "* gist can be rendered on nbviewer\n",
    "* gist render notebooks and markdown\n",
    "* gist are portable.\n",
    "\n",
    "these features make gist a practical place to write units of content, or collect like concepts.\n",
    "by using github gist for content we can decetralize our content, and `mee` can manage our entropy."
   ]
  }
 ],
 "metadata": {
  "kernelspec": {
   "display_name": "Python 3 (ipykernel)",
   "language": "python",
   "name": "python3"
  },
  "language_info": {
   "codemirror_mode": {
    "name": "ipython",
    "version": 3
   },
   "file_extension": ".py",
   "mimetype": "text/x-python",
   "name": "python",
   "nbconvert_exporter": "python",
   "pygments_lexer": "ipython3",
   "version": "3.9.5"
  }
 },
 "nbformat": 4,
 "nbformat_minor": 5
}
